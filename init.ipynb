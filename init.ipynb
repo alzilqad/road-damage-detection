{
 "cells": [
  {
   "cell_type": "code",
   "execution_count": 91,
   "metadata": {},
   "outputs": [],
   "source": [
    "from xml.etree import ElementTree\n",
    "from xml.dom import minidom\n",
    "import collections\n",
    "import pandas as pd\n",
    "import os\n",
    "import json\n",
    "\n",
    "import matplotlib.pyplot as plt\n",
    "import matplotlib as matplot\n",
    "import seaborn as sns\n",
    "%matplotlib inline"
   ]
  },
  {
   "cell_type": "code",
   "execution_count": 4,
   "metadata": {},
   "outputs": [],
   "source": [
    "base_path = os.getcwd() + '/RoadDamageDataset/'\n",
    "\n",
    "damageTypes=[\"None\", \"D00\", \"D10\", \"D20\", \"D40\"]\n",
    "\n",
    "#{D00: Longitudinal Crack, D10: Transverse Crack, D20: Aligator Crack, D40: Pothole}\n",
    "\n",
    "# govs.\n",
    "govs = [\"Czech\", \"India\", \"Japan\"]"
   ]
  },
  {
   "cell_type": "markdown",
   "metadata": {},
   "source": [
    "## JSON file creation from annotation.txt"
   ]
  },
  {
   "cell_type": "code",
   "execution_count": 165,
   "metadata": {},
   "outputs": [],
   "source": [
    "images = []\n",
    "\n",
    "def format_as_json():\n",
    "    annotations = open(\"annotation.txt\", \"r\")\n",
    "    for data in annotations:\n",
    "        line = data.strip().split(',')\n",
    "        key = line[0]\n",
    "        if(line[1]==''):\n",
    "            line[1] = '0'\n",
    "        obj = line[1].split()\n",
    "        image = {\n",
    "            key: [\n",
    "                {\n",
    "                    'class': obj[0],\n",
    "                    'location': ' '.join(map(str, obj[1:5])),\n",
    "                }\n",
    "            ]\n",
    "        }\n",
    "\n",
    "        index=5\n",
    "        while(len(obj[index:])!=0):\n",
    "            image[key].append({\n",
    "                'class': obj[index],\n",
    "                'location': ' '.join(map(str, obj[index+1:index+5])),\n",
    "            })\n",
    "            index=index+5\n",
    "\n",
    "        images.append(image)\n",
    "\n",
    "    annotations.close()\n",
    "\n",
    "def save_as_json():\n",
    "    with open('data.json', 'w') as fp:\n",
    "        json.dump(images, fp)\n",
    "\n",
    "format_as_json()\n",
    "save_as_json()"
   ]
  },
  {
   "cell_type": "markdown",
   "metadata": {},
   "source": [
    "## DataFrame file creation from annotation.txt"
   ]
  },
  {
   "cell_type": "code",
   "execution_count": 264,
   "metadata": {},
   "outputs": [],
   "source": [
    "def dataframe_creation():\n",
    "    keys = []\n",
    "    classes = []\n",
    "    objects = []\n",
    "    damages = []\n",
    "    countries = []\n",
    "    \n",
    "    annotations = open(\"annotation.txt\", \"r\")\n",
    "    for data in annotations:\n",
    "        line = data.strip().split(',')\n",
    "        if(line[1]==''):\n",
    "            line[1] = '0'\n",
    "        objs = line[1].split()\n",
    "        \n",
    "        key = line[0]\n",
    "        obj = ' '.join(map(str, objs[1:5]))\n",
    "        country = key.split('_')[0]\n",
    "        \n",
    "        keys.append(key)\n",
    "        classes.append(int(objs[0]))\n",
    "        damages.append(damageTypes[int(objs[0])])\n",
    "        objects.append(obj if len(obj)!=0 else \"None\")\n",
    "        countries.append(country)\n",
    "\n",
    "        index=5\n",
    "        while(len(objs[index:])!=0):\n",
    "            keys.append(key)\n",
    "            classes.append(int(objs[index]))\n",
    "            damages.append(damageTypes[int(objs[index])])\n",
    "            obj = ' '.join(map(str, objs[index+1:index+5]))\n",
    "            objects.append(obj if len(obj)!=0 else \"None\")\n",
    "            countries.append(country)\n",
    "            index = index + 5\n",
    "    \n",
    "    frame = {'image': keys, 'class': classes, 'damage_type': damages, 'object': objects, 'country': countries}\n",
    "    df = pd.DataFrame(frame)\n",
    "    return df\n",
    "\n",
    "df = dataframe_creation()\n",
    "with pd.ExcelWriter('data.xlsx') as writer:  \n",
    "    df.to_excel(writer, sheet_name='Sheet') "
   ]
  },
  {
   "cell_type": "code",
   "execution_count": 265,
   "metadata": {},
   "outputs": [
    {
     "data": {
      "text/html": [
       "<div>\n",
       "<style scoped>\n",
       "    .dataframe tbody tr th:only-of-type {\n",
       "        vertical-align: middle;\n",
       "    }\n",
       "\n",
       "    .dataframe tbody tr th {\n",
       "        vertical-align: top;\n",
       "    }\n",
       "\n",
       "    .dataframe thead th {\n",
       "        text-align: right;\n",
       "    }\n",
       "</style>\n",
       "<table border=\"1\" class=\"dataframe\">\n",
       "  <thead>\n",
       "    <tr style=\"text-align: right;\">\n",
       "      <th></th>\n",
       "      <th>image</th>\n",
       "      <th>class</th>\n",
       "      <th>damage_type</th>\n",
       "      <th>object</th>\n",
       "      <th>country</th>\n",
       "    </tr>\n",
       "  </thead>\n",
       "  <tbody>\n",
       "    <tr>\n",
       "      <th>0</th>\n",
       "      <td>Czech_003090.jpg</td>\n",
       "      <td>0</td>\n",
       "      <td>None</td>\n",
       "      <td>None</td>\n",
       "      <td>Czech</td>\n",
       "    </tr>\n",
       "    <tr>\n",
       "      <th>1</th>\n",
       "      <td>Japan_001851.jpg</td>\n",
       "      <td>1</td>\n",
       "      <td>D00</td>\n",
       "      <td>37 422 151 590</td>\n",
       "      <td>Japan</td>\n",
       "    </tr>\n",
       "    <tr>\n",
       "      <th>2</th>\n",
       "      <td>Japan_007255.jpg</td>\n",
       "      <td>0</td>\n",
       "      <td>None</td>\n",
       "      <td>None</td>\n",
       "      <td>Japan</td>\n",
       "    </tr>\n",
       "    <tr>\n",
       "      <th>3</th>\n",
       "      <td>Japan_005918.jpg</td>\n",
       "      <td>0</td>\n",
       "      <td>None</td>\n",
       "      <td>None</td>\n",
       "      <td>Japan</td>\n",
       "    </tr>\n",
       "    <tr>\n",
       "      <th>4</th>\n",
       "      <td>Japan_004468.jpg</td>\n",
       "      <td>3</td>\n",
       "      <td>D20</td>\n",
       "      <td>427 436 594 587</td>\n",
       "      <td>Japan</td>\n",
       "    </tr>\n",
       "  </tbody>\n",
       "</table>\n",
       "</div>"
      ],
      "text/plain": [
       "              image  class damage_type           object country\n",
       "0  Czech_003090.jpg      0        None             None   Czech\n",
       "1  Japan_001851.jpg      1         D00   37 422 151 590   Japan\n",
       "2  Japan_007255.jpg      0        None             None   Japan\n",
       "3  Japan_005918.jpg      0        None             None   Japan\n",
       "4  Japan_004468.jpg      3         D20  427 436 594 587   Japan"
      ]
     },
     "execution_count": 265,
     "metadata": {},
     "output_type": "execute_result"
    }
   ],
   "source": [
    "df.head()"
   ]
  },
  {
   "cell_type": "code",
   "execution_count": 329,
   "metadata": {},
   "outputs": [
    {
     "data": {
      "text/plain": [
       "Text(0.5, 1.0, 'Damage Type Classes Frequency')"
      ]
     },
     "execution_count": 329,
     "metadata": {},
     "output_type": "execute_result"
    },
    {
     "data": {
      "image/png": "[encoded data removed]",
      "text/plain": [
       "<Figure size 432x288 with 1 Axes>"
      ]
     },
     "metadata": {
      "needs_background": "light"
     },
     "output_type": "display_data"
    }
   ],
   "source": [
    "bar = df[\"class\"].value_counts()\n",
    "bar = bar.sort_index()\n",
    "bar.plot(kind=\"bar\")\n",
    "\n",
    "plt.xticks((0, 1, 2, 3, 4), (\"None\", \"D00\", \"D10\", \"D20\", \"D40\"))\n",
    "plt.xlabel(\"Classes\")\n",
    "plt.ylabel(\"Instances\")\n",
    "plt.title(\"Damage Type Classes Frequency\")"
   ]
  },
  {
   "cell_type": "markdown",
   "metadata": {},
   "source": [
    "## Numpy Array of Images"
   ]
  },
  {
   "cell_type": "code",
   "execution_count": null,
   "metadata": {},
   "outputs": [],
   "source": []
  }
 ],
 "metadata": {
  "kernelspec": {
   "display_name": "Python 3",
   "language": "python",
   "name": "python3"
  },
  "language_info": {
   "codemirror_mode": {
    "name": "ipython",
    "version": 3
   },
   "file_extension": ".py",
   "mimetype": "text/x-python",
   "name": "python",
   "nbconvert_exporter": "python",
   "pygments_lexer": "ipython3",
   "version": "3.7.3"
  }
 },
 "nbformat": 4,
 "nbformat_minor": 4
}
